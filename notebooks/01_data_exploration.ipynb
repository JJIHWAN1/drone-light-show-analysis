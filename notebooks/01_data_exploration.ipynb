{
 "cells": [
  {
   "cell_type": "markdown",
   "metadata": {},
   "source": [
    "# 드론 라이트 쇼 검색 트렌드 데이터 탐색\n",
    "\n",
    "## 목표\n",
    "- 네이버 데이터랩 CSV 데이터 로드 및 기본 정보 파악\n",
    "- 데이터 품질 확인 및 전처리\n",
    "- 기본 통계 분석 및 시각화"
   ]
  },
  {
   "cell_type": "code",
   "execution_count": null,
   "metadata": {},
   "outputs": [],
   "source": [
    "import pandas as pd\n",
    "import numpy as np\n",
    "import matplotlib.pyplot as plt\n",
    "import seaborn as sns\n",
    "import plotly.express as px\n",
    "import plotly.graph_objects as go\n",
    "from plotly.subplots import make_subplots\n",
    "from datetime import datetime, timedelta\n",
    "import warnings\n",
    "warnings.filterwarnings('ignore')\n",
    "\n",
    "# 한글 폰트 설정\n",
    "plt.rcParams['font.family'] = 'DejaVu Sans'\n",
    "plt.rcParams['axes.unicode_minus'] = False\n",
    "\n",
    "# 스타일 설정\n",
    "sns.set_style(\"whitegrid\")\n",
    "plt.style.use('seaborn-v0_8')"
   ]
  },
  {
   "cell_type": "markdown",
   "metadata": {},
   "source": [
    "## 1. 데이터 로드 및 기본 정보"
   ]
  },
  {
   "cell_type": "code",
   "execution_count": null,
   "metadata": {},
   "outputs": [],
   "source": [
    "# 데이터 로드\n",
    "df = pd.read_csv('../data/naver_datalab_fixed.csv')\n",
    "\n",
    "print(\"데이터 기본 정보:\")\n",
    "print(f\"데이터 크기: {df.shape}\")\n",
    "print(f\"컬럼: {list(df.columns)}\")\n",
    "print(f\"\\n데이터 타입:\")\n",
    "print(df.dtypes)\n",
    "print(f\"\\n결측값:\")\n",
    "print(df.isnull().sum())"
   ]
  },
  {
   "cell_type": "code",
   "execution_count": null,
   "metadata": {},
   "outputs": [],
   "source": [
    "# 처음 몇 행 확인\n",
    "print(\"데이터 샘플:\")\n",
    "df.head(10)"
   ]
  },
  {
   "cell_type": "code",
   "execution_count": null,
   "metadata": {},
   "outputs": [],
   "source": [
    "# 지역별 데이터 확인\n",
    "print(\"지역별 데이터 개수:\")\n",
    "print(df['region'].value_counts())\n",
    "print(f\"\\n고유 지역: {df['region'].unique()}\")"
   ]
  },
  {
   "cell_type": "markdown",
   "metadata": {},
   "source": [
    "## 2. 데이터 전처리"
   ]
  },
  {
   "cell_type": "code",
   "execution_count": null,
   "metadata": {},
   "outputs": [],
   "source": [
    "# 날짜 컬럼을 datetime으로 변환\n",
    "df['date'] = pd.to_datetime(df['date'])\n",
    "\n",
    "# 날짜 범위 확인\n",
    "print(f\"데이터 기간: {df['date'].min()} ~ {df['date'].max()}\")\n",
    "print(f\"총 기간: {(df['date'].max() - df['date'].min()).days + 1}일\")\n",
    "\n",
    "# 연도, 월, 요일 컬럼 추가\n",
    "df['year'] = df['date'].dt.year\n",
    "df['month'] = df['date'].dt.month\n",
    "df['day_of_week'] = df['date'].dt.day_name()\n",
    "df['quarter'] = df['date'].dt.quarter\n",
    "\n",
    "print(f\"\\n연도별 데이터:\")\n",
    "print(df['year'].value_counts().sort_index())"
   ]
  },
  {
   "cell_type": "markdown",
   "metadata": {},
   "source": [
    "## 3. 기본 통계 분석"
   ]
  },
  {
   "cell_type": "code",
   "execution_count": null,
   "metadata": {},
   "outputs": [],
   "source": [
    "# 지역별 기본 통계\n",
    "print(\"지역별 검색 비율 기본 통계:\")\n",
    "region_stats = df.groupby('region')['ratio'].describe()\n",
    "region_stats"
   ]
  },
  {
   "cell_type": "code",
   "execution_count": null,
   "metadata": {},
   "outputs": [],
   "source": [
    "# 지역별 최대값과 해당 날짜\n",
    "print(\"지역별 최대 검색 비율과 날짜:\")\n",
    "for region in df['region'].unique():\n",
    "    region_data = df[df['region'] == region]\n",
    "    max_idx = region_data['ratio'].idxmax()\n",
    "    max_date = region_data.loc[max_idx, 'date']\n",
    "    max_ratio = region_data.loc[max_idx, 'ratio']\n",
    "    print(f\"{region}: {max_ratio:.5f} ({max_date.strftime('%Y-%m-%d')})\")"
   ]
  },
  {
   "cell_type": "markdown",
   "metadata": {},
   "source": [
    "## 4. 기본 시각화"
   ]
  },
  {
   "cell_type": "code",
   "execution_count": null,
   "metadata": {},
   "outputs": [],
   "source": [
    "# 지역별 검색 비율 분포\n",
    "fig, axes = plt.subplots(2, 2, figsize=(15, 10))\n",
    "\n",
    "# 박스플롯\n",
    "sns.boxplot(data=df, x='region', y='ratio', ax=axes[0,0])\n",
    "axes[0,0].set_title('지역별 검색 비율 분포 (박스플롯)')\n",
    "axes[0,0].tick_params(axis='x', rotation=45)\n",
    "\n",
    "# 히스토그램\n",
    "for i, region in enumerate(df['region'].unique()):\n",
    "    region_data = df[df['region'] == region]['ratio']\n",
    "    axes[0,1].hist(region_data, alpha=0.7, label=region, bins=50)\n",
    "axes[0,1].set_title('지역별 검색 비율 히스토그램')\n",
    "axes[0,1].set_xlabel('검색 비율')\n",
    "axes[0,1].set_ylabel('빈도')\n",
    "axes[0,1].legend()\n",
    "\n",
    "# 연도별 평균 검색 비율\n",
    "yearly_avg = df.groupby(['year', 'region'])['ratio'].mean().reset_index()\n",
    "sns.barplot(data=yearly_avg, x='year', y='ratio', hue='region', ax=axes[1,0])\n",
    "axes[1,0].set_title('연도별 평균 검색 비율')\n",
    "\n",
    "# 월별 평균 검색 비율\n",
    "monthly_avg = df.groupby(['month', 'region'])['ratio'].mean().reset_index()\n",
    "sns.lineplot(data=monthly_avg, x='month', y='ratio', hue='region', ax=axes[1,1], marker='o')\n",
    "axes[1,1].set_title('월별 평균 검색 비율')\n",
    "axes[1,1].set_xlabel('월')\n",
    "\n",
    "plt.tight_layout()\n",
    "plt.savefig('../results/figures/basic_statistics.png', dpi=300, bbox_inches='tight')\n",
    "plt.show()"
   ]
  },
  {
   "cell_type": "markdown",
   "metadata": {},
   "source": [
    "## 5. 시계열 데이터 시각화"
   ]
  },
  {
   "cell_type": "code",
   "execution_count": null,
   "metadata": {},
   "outputs": [],
   "source": [
    "# Plotly를 사용한 인터랙티브 시계열 차트\n",
    "fig = px.line(df, x='date', y='ratio', color='region', \n",
    "              title='지역별 드론 라이트 쇼 검색 트렌드 (2023-2025)',\n",
    "              labels={'ratio': '검색 비율', 'date': '날짜', 'region': '지역'})\n",
    "\n",
    "fig.update_layout(\n",
    "    width=1200,\n",
    "    height=600,\n",
    "    hovermode='x unified'\n",
    ")\n",
    "\n",
    "fig.show()"
   ]
  },
  {
   "cell_type": "code",
   "execution_count": null,
   "metadata": {},
   "outputs": [],
   "source": [
    "# 각 지역별 개별 시계열 차트\n",
    "fig = make_subplots(\n",
    "    rows=3, cols=1,\n",
    "    subplot_titles=df['region'].unique(),\n",
    "    shared_xaxes=True,\n",
    "    vertical_spacing=0.08\n",
    ")\n",
    "\n",
    "colors = ['#1f77b4', '#ff7f0e', '#2ca02c']\n",
    "\n",
    "for i, region in enumerate(df['region'].unique()):\n",
    "    region_data = df[df['region'] == region]\n",
    "    fig.add_trace(\n",
    "        go.Scatter(\n",
    "            x=region_data['date'],\n",
    "            y=region_data['ratio'],\n",
    "            mode='lines',\n",
    "            name=region,\n",
    "            line=dict(color=colors[i]),\n",
    "            hovertemplate='%{x}<br>검색비율: %{y:.4f}<extra></extra>'\n",
    "        ),\n",
    "        row=i+1, col=1\n",
    "    )\n",
    "\n",
    "fig.update_layout(\n",
    "    height=900,\n",
    "    title_text=\"지역별 드론 라이트 쇼 검색 트렌드 상세\",\n",
    "    showlegend=False\n",
    ")\n",
    "\n",
    "fig.update_xaxes(title_text=\"날짜\", row=3, col=1)\n",
    "fig.update_yaxes(title_text=\"검색 비율\")\n",
    "\n",
    "fig.show()"
   ]
  },
  {
   "cell_type": "markdown",
   "metadata": {},
   "source": [
    "## 6. 데이터 저장"
   ]
  },
  {
   "cell_type": "code",
   "execution_count": null,
   "metadata": {},
   "outputs": [],
   "source": [
    "# 전처리된 데이터 저장\n",
    "df.to_csv('../data/processed_data.csv', index=False)\n",
    "print(\"전처리된 데이터가 저장되었습니다: ../data/processed_data.csv\")\n",
    "\n",
    "# 기본 통계 정보 저장\n",
    "region_stats.to_csv('../results/reports/basic_statistics.csv')\n",
    "print(\"기본 통계 정보가 저장되었습니다: ../results/reports/basic_statistics.csv\")"
   ]
  }
 ],
 "metadata": {
  "kernelspec": {
   "display_name": "Python 3",
   "language": "python",
   "name": "python3"
  },
  "language_info": {
   "codemirror_mode": {
    "name": "ipython",
    "version": 3
   },
   "file_extension": ".py",
   "mimetype": "text/x-python",
   "name": "python",
   "nbconvert_exporter": "python",
   "pygments_lexer": "ipython3",
   "version": "3.8.0"
  }
 },
 "nbformat": 4,
 "nbformat_minor": 4
}
